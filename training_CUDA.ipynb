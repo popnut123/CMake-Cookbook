{
  "cells": [
    {
      "cell_type": "markdown",
      "metadata": {
        "id": "view-in-github",
        "colab_type": "text"
      },
      "source": [
        "<a href=\"https://colab.research.google.com/github/popnut123/CMake-Cookbook/blob/master/training_CUDA.ipynb\" target=\"_parent\"><img src=\"https://colab.research.google.com/assets/colab-badge.svg\" alt=\"Open In Colab\"/></a>"
      ]
    },
    {
      "cell_type": "code",
      "execution_count": null,
      "metadata": {
        "colab": {
          "base_uri": "https://localhost:8080/",
          "height": 597
        },
        "id": "EODX1NALRNPW",
        "outputId": "b2eef23b-c42e-4ee3-ca56-45f280b0b64e"
      },
      "outputs": [
        {
          "output_type": "stream",
          "name": "stdout",
          "text": [
            "sure, nFeatrue was defined.\n",
            "cuda : True\n",
            "RNN(\n",
            "  (lstm): LSTM(4, 8, num_layers=3, batch_first=True, bidirectional=True)\n",
            "  (fc): Linear(in_features=16, out_features=18, bias=True)\n",
            ")\n"
          ]
        },
        {
          "output_type": "stream",
          "name": "stderr",
          "text": [
            "/usr/local/lib/python3.7/dist-packages/ipykernel_launcher.py:164: UserWarning: Implicit dimension choice for softmax has been deprecated. Change the call to include dim=X as an argument.\n",
            "/usr/local/lib/python3.7/dist-packages/ipykernel_launcher.py:178: UserWarning: Implicit dimension choice for softmax has been deprecated. Change the call to include dim=X as an argument.\n"
          ]
        },
        {
          "output_type": "stream",
          "name": "stdout",
          "text": [
            "epoch:  1 Accuracy of the Train: 16.35 % Accuracy of the Test: 19.63 %\n",
            "epoch:  2 Accuracy of the Train: 25.87 % Accuracy of the Test: 37.78 %\n"
          ]
        },
        {
          "output_type": "error",
          "ename": "KeyboardInterrupt",
          "evalue": "ignored",
          "traceback": [
            "\u001b[0;31m---------------------------------------------------------------------------\u001b[0m",
            "\u001b[0;31mKeyboardInterrupt\u001b[0m                         Traceback (most recent call last)",
            "\u001b[0;32m<ipython-input-1-2068f8699b56>\u001b[0m in \u001b[0;36m<module>\u001b[0;34m()\u001b[0m\n\u001b[1;32m    154\u001b[0m     \u001b[0;31m# print(data.batch_sizes[0])\u001b[0m\u001b[0;34m\u001b[0m\u001b[0;34m\u001b[0m\u001b[0;34m\u001b[0m\u001b[0m\n\u001b[1;32m    155\u001b[0m     \u001b[0;31m# print(data)\u001b[0m\u001b[0;34m\u001b[0m\u001b[0;34m\u001b[0m\u001b[0;34m\u001b[0m\u001b[0m\n\u001b[0;32m--> 156\u001b[0;31m     \u001b[0mout\u001b[0m \u001b[0;34m=\u001b[0m \u001b[0mmodel\u001b[0m\u001b[0;34m(\u001b[0m\u001b[0mdata\u001b[0m\u001b[0;34m)\u001b[0m\u001b[0;34m\u001b[0m\u001b[0;34m\u001b[0m\u001b[0m\n\u001b[0m\u001b[1;32m    157\u001b[0m     \u001b[0mloss\u001b[0m \u001b[0;34m=\u001b[0m \u001b[0mloss_func\u001b[0m\u001b[0;34m(\u001b[0m\u001b[0mout\u001b[0m\u001b[0;34m,\u001b[0m \u001b[0my\u001b[0m\u001b[0;34m)\u001b[0m\u001b[0;34m\u001b[0m\u001b[0;34m\u001b[0m\u001b[0m\n\u001b[1;32m    158\u001b[0m     \u001b[0;31m# print(loss)\u001b[0m\u001b[0;34m\u001b[0m\u001b[0;34m\u001b[0m\u001b[0;34m\u001b[0m\u001b[0m\n",
            "\u001b[0;32m/usr/local/lib/python3.7/dist-packages/torch/nn/modules/module.py\u001b[0m in \u001b[0;36m_call_impl\u001b[0;34m(self, *input, **kwargs)\u001b[0m\n\u001b[1;32m   1128\u001b[0m         if not (self._backward_hooks or self._forward_hooks or self._forward_pre_hooks or _global_backward_hooks\n\u001b[1;32m   1129\u001b[0m                 or _global_forward_hooks or _global_forward_pre_hooks):\n\u001b[0;32m-> 1130\u001b[0;31m             \u001b[0;32mreturn\u001b[0m \u001b[0mforward_call\u001b[0m\u001b[0;34m(\u001b[0m\u001b[0;34m*\u001b[0m\u001b[0minput\u001b[0m\u001b[0;34m,\u001b[0m \u001b[0;34m**\u001b[0m\u001b[0mkwargs\u001b[0m\u001b[0;34m)\u001b[0m\u001b[0;34m\u001b[0m\u001b[0;34m\u001b[0m\u001b[0m\n\u001b[0m\u001b[1;32m   1131\u001b[0m         \u001b[0;31m# Do not call functions when jit is used\u001b[0m\u001b[0;34m\u001b[0m\u001b[0;34m\u001b[0m\u001b[0;34m\u001b[0m\u001b[0m\n\u001b[1;32m   1132\u001b[0m         \u001b[0mfull_backward_hooks\u001b[0m\u001b[0;34m,\u001b[0m \u001b[0mnon_full_backward_hooks\u001b[0m \u001b[0;34m=\u001b[0m \u001b[0;34m[\u001b[0m\u001b[0;34m]\u001b[0m\u001b[0;34m,\u001b[0m \u001b[0;34m[\u001b[0m\u001b[0;34m]\u001b[0m\u001b[0;34m\u001b[0m\u001b[0;34m\u001b[0m\u001b[0m\n",
            "\u001b[0;32m<ipython-input-1-2068f8699b56>\u001b[0m in \u001b[0;36mforward\u001b[0;34m(self, x)\u001b[0m\n\u001b[1;32m    120\u001b[0m     \u001b[0mc0\u001b[0m \u001b[0;34m=\u001b[0m \u001b[0mtorch\u001b[0m\u001b[0;34m.\u001b[0m\u001b[0mzeros\u001b[0m\u001b[0;34m(\u001b[0m\u001b[0mD\u001b[0m \u001b[0;34m*\u001b[0m \u001b[0mself\u001b[0m\u001b[0;34m.\u001b[0m\u001b[0mnum_layers\u001b[0m\u001b[0;34m,\u001b[0m \u001b[0mBatch\u001b[0m\u001b[0;34m,\u001b[0m \u001b[0mself\u001b[0m\u001b[0;34m.\u001b[0m\u001b[0mhidden_size\u001b[0m\u001b[0;34m)\u001b[0m\u001b[0;34m.\u001b[0m\u001b[0mto\u001b[0m\u001b[0;34m(\u001b[0m\u001b[0mdevice\u001b[0m\u001b[0;34m)\u001b[0m\u001b[0;34m\u001b[0m\u001b[0;34m\u001b[0m\u001b[0m\n\u001b[1;32m    121\u001b[0m     \u001b[0mx\u001b[0m\u001b[0;34m.\u001b[0m\u001b[0mto\u001b[0m\u001b[0;34m(\u001b[0m\u001b[0mdevice\u001b[0m\u001b[0;34m)\u001b[0m\u001b[0;34m\u001b[0m\u001b[0;34m\u001b[0m\u001b[0m\n\u001b[0;32m--> 122\u001b[0;31m     \u001b[0m_\u001b[0m\u001b[0;34m,\u001b[0m \u001b[0;34m(\u001b[0m\u001b[0mh_n\u001b[0m\u001b[0;34m,\u001b[0m \u001b[0m_\u001b[0m\u001b[0;34m)\u001b[0m \u001b[0;34m=\u001b[0m \u001b[0mself\u001b[0m\u001b[0;34m.\u001b[0m\u001b[0mlstm\u001b[0m\u001b[0;34m(\u001b[0m\u001b[0mx\u001b[0m\u001b[0;34m,\u001b[0m \u001b[0;34m(\u001b[0m\u001b[0mh0\u001b[0m\u001b[0;34m,\u001b[0m \u001b[0mc0\u001b[0m\u001b[0;34m)\u001b[0m\u001b[0;34m)\u001b[0m\u001b[0;34m\u001b[0m\u001b[0;34m\u001b[0m\u001b[0m\n\u001b[0m\u001b[1;32m    123\u001b[0m     \u001b[0mfinal_state\u001b[0m  \u001b[0;34m=\u001b[0m \u001b[0mh_n\u001b[0m\u001b[0;34m.\u001b[0m\u001b[0mview\u001b[0m\u001b[0;34m(\u001b[0m\u001b[0mself\u001b[0m\u001b[0;34m.\u001b[0m\u001b[0mnum_layers\u001b[0m\u001b[0;34m,\u001b[0m \u001b[0mD\u001b[0m\u001b[0;34m,\u001b[0m \u001b[0mBatch\u001b[0m\u001b[0;34m,\u001b[0m \u001b[0mself\u001b[0m\u001b[0;34m.\u001b[0m\u001b[0mhidden_size\u001b[0m\u001b[0;34m)\u001b[0m\u001b[0;34m[\u001b[0m\u001b[0;34m-\u001b[0m\u001b[0;36m1\u001b[0m\u001b[0;34m]\u001b[0m     \u001b[0;31m# num_layers, num_directions, batch, hidden_size\u001b[0m\u001b[0;34m\u001b[0m\u001b[0;34m\u001b[0m\u001b[0m\n\u001b[1;32m    124\u001b[0m \u001b[0;34m\u001b[0m\u001b[0m\n",
            "\u001b[0;32m/usr/local/lib/python3.7/dist-packages/torch/nn/modules/module.py\u001b[0m in \u001b[0;36m_call_impl\u001b[0;34m(self, *input, **kwargs)\u001b[0m\n\u001b[1;32m   1128\u001b[0m         if not (self._backward_hooks or self._forward_hooks or self._forward_pre_hooks or _global_backward_hooks\n\u001b[1;32m   1129\u001b[0m                 or _global_forward_hooks or _global_forward_pre_hooks):\n\u001b[0;32m-> 1130\u001b[0;31m             \u001b[0;32mreturn\u001b[0m \u001b[0mforward_call\u001b[0m\u001b[0;34m(\u001b[0m\u001b[0;34m*\u001b[0m\u001b[0minput\u001b[0m\u001b[0;34m,\u001b[0m \u001b[0;34m**\u001b[0m\u001b[0mkwargs\u001b[0m\u001b[0;34m)\u001b[0m\u001b[0;34m\u001b[0m\u001b[0;34m\u001b[0m\u001b[0m\n\u001b[0m\u001b[1;32m   1131\u001b[0m         \u001b[0;31m# Do not call functions when jit is used\u001b[0m\u001b[0;34m\u001b[0m\u001b[0;34m\u001b[0m\u001b[0;34m\u001b[0m\u001b[0m\n\u001b[1;32m   1132\u001b[0m         \u001b[0mfull_backward_hooks\u001b[0m\u001b[0;34m,\u001b[0m \u001b[0mnon_full_backward_hooks\u001b[0m \u001b[0;34m=\u001b[0m \u001b[0;34m[\u001b[0m\u001b[0;34m]\u001b[0m\u001b[0;34m,\u001b[0m \u001b[0;34m[\u001b[0m\u001b[0;34m]\u001b[0m\u001b[0;34m\u001b[0m\u001b[0;34m\u001b[0m\u001b[0m\n",
            "\u001b[0;32m/usr/local/lib/python3.7/dist-packages/torch/nn/modules/rnn.py\u001b[0m in \u001b[0;36mforward\u001b[0;34m(self, input, hx)\u001b[0m\n\u001b[1;32m    771\u001b[0m         \u001b[0;32melse\u001b[0m\u001b[0;34m:\u001b[0m\u001b[0;34m\u001b[0m\u001b[0;34m\u001b[0m\u001b[0m\n\u001b[1;32m    772\u001b[0m             result = _VF.lstm(input, batch_sizes, hx, self._flat_weights, self.bias,\n\u001b[0;32m--> 773\u001b[0;31m                               self.num_layers, self.dropout, self.training, self.bidirectional)\n\u001b[0m\u001b[1;32m    774\u001b[0m         \u001b[0moutput\u001b[0m \u001b[0;34m=\u001b[0m \u001b[0mresult\u001b[0m\u001b[0;34m[\u001b[0m\u001b[0;36m0\u001b[0m\u001b[0;34m]\u001b[0m\u001b[0;34m\u001b[0m\u001b[0;34m\u001b[0m\u001b[0m\n\u001b[1;32m    775\u001b[0m         \u001b[0mhidden\u001b[0m \u001b[0;34m=\u001b[0m \u001b[0mresult\u001b[0m\u001b[0;34m[\u001b[0m\u001b[0;36m1\u001b[0m\u001b[0;34m:\u001b[0m\u001b[0;34m]\u001b[0m\u001b[0;34m\u001b[0m\u001b[0;34m\u001b[0m\u001b[0m\n",
            "\u001b[0;31mKeyboardInterrupt\u001b[0m: "
          ]
        }
      ],
      "source": [
        "# -*- coding: utf-8 -*-\n",
        "\n",
        "import numpy as np\n",
        "import pickle\n",
        "import torch\n",
        "import torch.nn as nn\n",
        "import torch.nn.utils.rnn as rnn_utils\n",
        "from torch.utils.data import DataLoader\n",
        "from torch.utils.data import Dataset\n",
        "from torch.utils.data.sampler import SubsetRandomSampler\n",
        "\n",
        "# parameters: 8 for force, 12 for force & light\n",
        "nFeatrue = 4\n",
        "\n",
        "# check if \"nFeatrue\" is defined \n",
        "try:\n",
        "  nFeatrue\n",
        "except NameError:\n",
        "  print(\"well, nFeatrue WASN'T defined after all!\")\n",
        "else:\n",
        "  print(\"sure, nFeatrue was defined.\")\n",
        "device = torch.device('cuda' if torch.cuda.is_available() else 'cpu')\n",
        "print(\"cuda :\", torch.cuda.is_available())\n",
        "\n",
        "# inherited from class Dataset\n",
        "class SensorDataset(Dataset):\n",
        "\n",
        "  def __init__(self, Data, Label):\n",
        "    self.Data = Data\n",
        "    self.Label = Label\n",
        "\n",
        "  def __len__(self):\n",
        "    return len(self.Data)\n",
        "\n",
        "  def __getitem__(self, index):\n",
        "    data = torch.Tensor(self.Data[index]).to(device)\n",
        "    label = torch.cuda.LongTensor([self.Label[index]]).to(device)\n",
        "    # print(self.Label[index], type(self.Label[index]))\n",
        "    return (data, label)\n",
        "\n",
        "# collate_fn for the datalaoder \n",
        "def my_collate(data):\n",
        "  data.sort(key=lambda x: len(x[0]), reverse=True)\n",
        " \n",
        "  context = [ i[0] for i in data ]\n",
        "  label = [ i[1] for i in data ]\n",
        "  # print(label)\n",
        "  label = torch.cuda.LongTensor(label)\n",
        "  data_length = [len(i)/nFeatrue for i in context]\n",
        "  padded_context = rnn_utils.pad_sequence(context, batch_first=True, padding_value=0)\n",
        "  # final_data = [[a,b] for a,b in zip(padded_context, label)]\n",
        "  # final_data = torch.FloatTensor(final_data)\n",
        "  \n",
        "  return (padded_context, label), data_length\n",
        "\n",
        "# load DATA\n",
        "open_file = open('/content/drive/MyDrive/D2/dataFH.pkl', \"rb\")\n",
        "DATA = pickle.load(open_file)\n",
        "open_file.close()\n",
        "\n",
        "open_file = open('/content/drive/MyDrive/D2/train_idx73.pkl', \"rb\")\n",
        "train_indices = pickle.load(open_file)\n",
        "open_file.close()\n",
        "\n",
        "open_file = open('/content/drive/MyDrive/D2/Label.pkl', \"rb\")\n",
        "LABEL = pickle.load(open_file)\n",
        "open_file.close()\n",
        "\n",
        "open_file = open('/content/drive/MyDrive/D2/val_idx73.pkl', \"rb\")\n",
        "val_indices = pickle.load(open_file)\n",
        "open_file.close()\n",
        "\n",
        "# print(ValLabel)\n",
        "\n",
        "\"\"\"# 提示: **数据按以下格式存储**\n",
        "\n",
        "[\n",
        "\n",
        "[s1[0],...,sn[0],s1[1],...,sn[1], ..., s1[t1],...,sn[t1]],\n",
        "\n",
        "[s1[0],...,sn[0],s1[1],...,sn[1], ..., s1[t2],...,sn[t2]],\n",
        "\n",
        "[s1[0],...,sn[0],s1[1],...,sn[1], ..., s1[t3],...,sn[t3]],\n",
        "\n",
        "...\n",
        "\n",
        "]\n",
        "\"\"\"\n",
        "\n",
        "# Creating PT data samplers and loaders:\n",
        "train_sampler = SubsetRandomSampler(train_indices)\n",
        "valid_sampler = SubsetRandomSampler(val_indices)\n",
        "\n",
        "dataset = SensorDataset(DATA, LABEL)\n",
        "# val_dataset = SensorDataset(ValForce, ValLabel)\n",
        "train_dataloader = DataLoader(dataset, batch_size=16, collate_fn=my_collate, sampler=train_sampler)\n",
        "validation_dataloader = DataLoader(dataset, batch_size=16, collate_fn=my_collate, sampler=valid_sampler)\n",
        "\n",
        "# BiLSTM Model\n",
        "\n",
        "class RNN(nn.Module):\n",
        "  def __init__(self, input_size, hidden_size, num_layers, num_classes, if_bidirectional):\n",
        "    super(RNN, self).__init__()\n",
        "    self.num_layers = num_layers\n",
        "    self.hidden_size = hidden_size\n",
        "    self.if_bidirectional = if_bidirectional\n",
        "    self.lstm = nn.LSTM(input_size, hidden_size, num_layers, batch_first=True, bidirectional=if_bidirectional)\n",
        "\n",
        "    if if_bidirectional == True:\n",
        "      self.fc = nn.Linear(hidden_size * 2, num_classes)\n",
        "    else:\n",
        "      self.fc = nn.Linear(hidden_size, num_classes)\n",
        "    \n",
        "\n",
        "  def forward(self, x):\n",
        "    D = 2 if self.if_bidirectional == True else 1\n",
        "    Batch = x.batch_sizes[0]\n",
        "\n",
        "    h0 = torch.zeros(D * self.num_layers, Batch, self.hidden_size).to(device)  \n",
        "    c0 = torch.zeros(D * self.num_layers, Batch, self.hidden_size).to(device) \n",
        "    x.to(device)\n",
        "    _, (h_n, _) = self.lstm(x, (h0, c0))\n",
        "    final_state  = h_n.view(self.num_layers, D, Batch, self.hidden_size)[-1]     # num_layers, num_directions, batch, hidden_size\n",
        "\n",
        "    if D == 1:\n",
        "      X = final_state.squeeze()\n",
        "    elif D == 2: \n",
        "      h_1, h_2 = final_state[0], final_state[1]  # forward & backward pass\n",
        "      #X = h_1 + h_2                # Add both states\n",
        "      X = torch.cat((h_1, h_2), 1)         # Concatenate both states, X-size: (Batch, hidden_size * 2）\n",
        "\n",
        "    output = self.fc(X) # fully-connected layer\n",
        "\n",
        "    return output\n",
        "\n",
        "      \n",
        "model = RNN(input_size = nFeatrue, hidden_size = 8, num_layers = 3, num_classes = 18, if_bidirectional = True).to(device)\n",
        "loss_func = torch.nn.CrossEntropyLoss()\n",
        "optimizer = torch.optim.Adam(model.parameters(), lr=0.02)\n",
        "scheduler = torch.optim.lr_scheduler.ExponentialLR(optimizer, gamma=0.95)\n",
        "\n",
        "print(model)\n",
        "\n",
        "# training \n",
        "for ep in range(40):\n",
        "  train_correct = 0\n",
        "  train_total = 0\n",
        "  val_correct = 0\n",
        "  val_total = 0\n",
        "  for (x, y), length in train_dataloader: \n",
        "    batch_size = x.shape[0]\n",
        "    v = x.view(batch_size, -1, nFeatrue)\n",
        "    data = rnn_utils.pack_padded_sequence(v.type(torch.FloatTensor), length, batch_first=True).to(device)\n",
        "    # print(data.batch_sizes[0])\n",
        "    # print(data)\n",
        "    out = model(data)\n",
        "    loss = loss_func(out, y) \n",
        "    # print(loss)\n",
        "\n",
        "    optimizer.zero_grad()   # clear gradients for next train\n",
        "    loss.backward()         # backpropagation, compute gradients\n",
        "    optimizer.step()        # apply gradients\n",
        "    \n",
        "    predicted = torch.max(torch.nn.functional.softmax(out), 1)[1]\n",
        "    train_total += y.size(0)\n",
        "    train_correct += (predicted == y).sum().item()\n",
        "\n",
        "    \n",
        "  scheduler.step()\n",
        "  \n",
        "  for (x, y), length in validation_dataloader: \n",
        "    batch_size = x.shape[0]\n",
        "    v = x.view(batch_size, -1, nFeatrue)\n",
        "    data = rnn_utils.pack_padded_sequence(v.type(torch.FloatTensor), length, batch_first=True).to(device)\n",
        "    out = model(data)\n",
        "    loss = loss_func(out, y)     \n",
        "    \n",
        "    predicted = torch.max(torch.nn.functional.softmax(out), 1)[1]\n",
        "    val_total += y.size(0)\n",
        "    val_correct += (predicted == y).sum().item()\n",
        "\n",
        "  print(\"epoch: \", ep + 1, 'Accuracy of the Train: %.2f %%' % (100 * train_correct / train_total), 'Accuracy of the Test: %.2f %%' % (100 * val_correct / val_total))\n",
        "  \n",
        " \n",
        "\n",
        "# # save model net\n",
        "filename = \"onlyForce.pkl\"\n",
        "torch.save(model, filename)\n",
        "\n"
      ]
    },
    {
      "cell_type": "code",
      "execution_count": null,
      "metadata": {
        "colab": {
          "base_uri": "https://localhost:8080/"
        },
        "id": "jqNjphN9VQ-Q",
        "outputId": "f6732cf2-beee-4bb0-d51f-66a21fd00620"
      },
      "outputs": [
        {
          "name": "stderr",
          "output_type": "stream",
          "text": [
            "/usr/local/lib/python3.7/dist-packages/ipykernel_launcher.py:15: UserWarning: Implicit dimension choice for softmax has been deprecated. Change the call to include dim=X as an argument.\n",
            "  from ipykernel import kernelapp as app\n"
          ]
        },
        {
          "name": "stdout",
          "output_type": "stream",
          "text": [
            "acuracy:  0.8703703703703703\n"
          ]
        }
      ],
      "source": [
        "GT = []\n",
        "Pred = []\n",
        "val_total = 0\n",
        "val_correct = 0\n",
        "\n",
        "# model = torch.load(\"onlyForce.pkl\")\n",
        "\n",
        "for (x, y), length in validation_dataloader: \n",
        "  batch_size = x.shape[0]\n",
        "  v = x.view(batch_size, -1, nFeatrue)\n",
        "  data = rnn_utils.pack_padded_sequence(v.type(torch.FloatTensor), length, batch_first=True).to(device)\n",
        "  out = model(data)\n",
        "  loss = loss_func(out, y)     \n",
        "  \n",
        "  predicted = torch.max(torch.nn.functional.softmax(out), 1)[1]\n",
        "  GT += y\n",
        "  Pred += predicted\n",
        "  val_total += y.size(0)\n",
        "  val_correct += (predicted == y).sum().item()\n",
        "print(\"acuracy: \", val_correct / val_total) "
      ]
    },
    {
      "cell_type": "code",
      "execution_count": null,
      "metadata": {
        "colab": {
          "base_uri": "https://localhost:8080/",
          "height": 282
        },
        "id": "tvvfNthYVZnM",
        "outputId": "cc7555da-74bd-4f5c-c2b7-cac1e3d8c316"
      },
      "outputs": [
        {
          "data": {
            "text/plain": [
              "<matplotlib.axes._subplots.AxesSubplot at 0x7f1d85bc7910>"
            ]
          },
          "execution_count": 4,
          "metadata": {},
          "output_type": "execute_result"
        },
        {
          "data": {
            "image/png": "[encoded data removed]",
            "text/plain": [
              "<Figure size 432x288 with 2 Axes>"
            ]
          },
          "metadata": {},
          "output_type": "display_data"
        }
      ],
      "source": [
        "import matplotlib.pyplot as plt\n",
        "import seaborn as sns\n",
        "import pandas as pd\n",
        "\n",
        "count = np.zeros([18, 18])\n",
        "for item in zip(GT, Pred):\n",
        "  i = int(item[0])\n",
        "  j = int(item[1])\n",
        "  count[i][j] += 1\n",
        "\n",
        "Index = list(range(18))\n",
        "Cols = Index\n",
        "df = pd.DataFrame(data=count, index=Index, columns=Cols)\n",
        "sns.color_palette(\"light:#5A9\", as_cmap=True)\n",
        "sns.heatmap(df, annot=True, cmap = \"YlGnBu\")\n",
        "sns.save"
      ]
    },
    {
      "cell_type": "code",
      "execution_count": null,
      "metadata": {
        "id": "MxFHLV7ZXxyq"
      },
      "outputs": [],
      "source": [
        "import numpy as np\n",
        "import pickle\n",
        "open_file = open('/content/drive/MyDrive/D2/Label.pkl', \"rb\")\n",
        "LABEL = pickle.load(open_file)\n",
        "open_file.close()\n",
        "\n"
      ]
    },
    {
      "cell_type": "code",
      "execution_count": null,
      "metadata": {
        "id": "9QCAq3YPX6lB"
      },
      "outputs": [],
      "source": [
        "open_file = open('/content/drive/MyDrive/D2/train_idx73.pkl', \"rb\")\n",
        "train_indices = pickle.load(open_file)\n",
        "open_file.close()"
      ]
    },
    {
      "cell_type": "code",
      "source": [
        "LABEL[]"
      ],
      "metadata": {
        "colab": {
          "base_uri": "https://localhost:8080/",
          "height": 173
        },
        "id": "wIxq106Avp-o",
        "outputId": "62ba96e5-6dd6-49a8-c851-5a4ad0da8241"
      },
      "execution_count": null,
      "outputs": [
        {
          "output_type": "error",
          "ename": "TypeError",
          "evalue": "ignored",
          "traceback": [
            "\u001b[0;31m---------------------------------------------------------------------------\u001b[0m",
            "\u001b[0;31mTypeError\u001b[0m                                 Traceback (most recent call last)",
            "\u001b[0;32m<ipython-input-5-80e397fb3456>\u001b[0m in \u001b[0;36m<module>\u001b[0;34m()\u001b[0m\n\u001b[0;32m----> 1\u001b[0;31m \u001b[0mlen\u001b[0m\u001b[0;34m(\u001b[0m\u001b[0mLABEL\u001b[0m\u001b[0;34m[\u001b[0m\u001b[0;36m0\u001b[0m\u001b[0;34m]\u001b[0m\u001b[0;34m)\u001b[0m\u001b[0;34m\u001b[0m\u001b[0;34m\u001b[0m\u001b[0m\n\u001b[0m",
            "\u001b[0;31mTypeError\u001b[0m: object of type 'int' has no len()"
          ]
        }
      ]
    }
  ],
  "metadata": {
    "accelerator": "GPU",
    "colab": {
      "provenance": [],
      "mount_file_id": "1iiil2wzzX_ITovrFRtqQgavQT200RSxx",
      "authorship_tag": "ABX9TyMWWJFS6sUQZPHc6F+tN8yy",
      "include_colab_link": true
    },
    "kernelspec": {
      "display_name": "Python 3",
      "name": "python3"
    },
    "language_info": {
      "name": "python"
    },
    "gpuClass": "standard"
  },
  "nbformat": 4,
  "nbformat_minor": 0
}